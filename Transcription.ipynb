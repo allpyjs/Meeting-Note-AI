{
 "cells": [
  {
   "cell_type": "markdown",
   "id": "c295885e-8f86-4996-bdab-a4f778f6dbe1",
   "metadata": {},
   "source": [
    "## Inputs and params"
   ]
  },
  {
   "cell_type": "code",
   "execution_count": 2,
   "id": "c298f3dc-2b10-4b2b-9205-eb7a49806178",
   "metadata": {},
   "outputs": [],
   "source": [
    "# # Input params\n",
    "# Provide either local file path or YouTube URL\n",
    "# INPUT_VIDEO_FILE=\"record.mp4\" \n",
    "# INPUT_YOUTUBE_URL=\"https://www.youtube.com/watch?v=4V2C0X4qqLY\"\n",
    "\n",
    "# # Tokens, etc\n",
    "# Hugging Face token: https://huggingface.co/docs/hub/security-tokens#user-access-tokens \n",
    "HUGGINGFACE_AUTH_TOKEN=\"\"\n",
    "\n",
    "# # Model params\n",
    "\n",
    "# Model size: tiny, base, small, medium, large, large-v2\n",
    "# Can also have \".en\" suffix for English-specific model; e.g. base.en\n",
    "WHISPER_MODEL = \"base.en\"\n",
    "\n",
    "# Merge tracks with same label and separated by less than COLLAR seconds.\n",
    "COLLAR_IN_SECS = 0.5\n",
    "\n",
    "# Output files\n",
    "OUTPUT_TRANSCRIPTION=\"output.sub\"\n",
    "\n",
    "# Temporary files used in the process\n",
    "TEMP_VIDEO_FILE=\"temp/input.mp4\"\n",
    "TEMP_AUDIO_FILE=\"temp/input.wav\"\n"
   ]
  },
  {
   "cell_type": "markdown",
   "id": "0c47e7cf-d634-4786-9e37-ac7b81506c99",
   "metadata": {},
   "source": [
    "## Helpers"
   ]
  },
  {
   "cell_type": "code",
   "execution_count": 7,
   "id": "958404c2-2948-4a55-878b-98f641f6a22b",
   "metadata": {},
   "outputs": [],
   "source": [
    "from transformers import WhisperProcessor, WhisperForConditionalGeneration, pipeline\n",
    "from pyannote.audio import Pipeline\n",
    "from pytube import YouTube\n",
    "from pydub import AudioSegment\n",
    "import datetime\n",
    "import moviepy.editor as mp\n",
    "import os, shutil\n",
    "\n",
    "def ensure_dir(path):\n",
    "    \"\"\"Make sure director from the given path exists\"\"\"\n",
    "    \n",
    "    dir = os.path.dirname(path)\n",
    "    if dir:\n",
    "        os.makedirs(dir, exist_ok=True)\n",
    "\n",
    "def fetch_youtube_audio(url):\n",
    "    \"\"\"Fetch WAV audio from given youtube URL\"\"\"\n",
    "    \n",
    "    print(\"Fetching audio from Youtube URL:\", url)\n",
    "\n",
    "    ensure_dir(TEMP_VIDEO_FILE)\n",
    "    ensure_dir(TEMP_AUDIO_FILE)\n",
    "\n",
    "    video_stream = YouTube(url).streams.first()\n",
    "    video_stream.download(filename=TEMP_VIDEO_FILE)\n",
    "\n",
    "    video = mp.VideoFileClip(TEMP_VIDEO_FILE)\n",
    "    video.audio.write_audiofile(TEMP_AUDIO_FILE, codec='pcm_s16le')\n",
    "\n",
    "    print(\"Done fetching audio form YouTube to file: \", TEMP_AUDIO_FILE)\n",
    "    return TEMP_AUDIO_FILE\n",
    "\n",
    "\n",
    "def extract_wav_from_video(video_file):\n",
    "    \"\"\"Extract WAV audio from given video file\"\"\"\n",
    "    \n",
    "    print(\"Extracting audio from video file\", video_file)\n",
    "\n",
    "    ensure_dir(TEMP_AUDIO_FILE)\n",
    "    video = mp.VideoFileClip(video_file)\n",
    "    video.audio.write_audiofile(TEMP_AUDIO_FILE, codec='pcm_s16le')\n",
    "\n",
    "    print(\"Done fetching audio form YouTube to file: \", TEMP_AUDIO_FILE)\n",
    "    return TEMP_AUDIO_FILE\n",
    "\n",
    "\n",
    "TIMESTAMP_FORMAT = \"%H:%M:%S.%f\"\n",
    "base_time = datetime.datetime(1970, 1, 1)\n",
    "\n",
    "def format_timestamp(seconds):\n",
    "    \"\"\"Format timestamp in SubViewer format: https://wiki.videolan.org/SubViewer/\"\"\"\n",
    "    \n",
    "    date = base_time + datetime.timedelta(seconds=seconds)\n",
    "    return date.strftime(TIMESTAMP_FORMAT)[:-4]\n",
    "\n",
    "def extract_audio_track(input_file, output_file, start_time, end_time):\n",
    "    \"\"\"Extract and save part of given audio file\"\"\"\n",
    "    \n",
    "    # Load the WAV file\n",
    "    audio = AudioSegment.from_wav(input_file)\n",
    "\n",
    "    # Calculate the start and end positions in milliseconds\n",
    "    start_ms = start_time * 1000\n",
    "    end_ms = end_time * 1000\n",
    "\n",
    "    # Extract the desired segment\n",
    "    track = audio[start_ms:end_ms]\n",
    "\n",
    "    track.export(output_file, format=\"mp3\")\n",
    "\n",
    "def generate_speaker_diarization(audio_file):\n",
    "    \"\"\"Generate speaker diarization for given audio file\"\"\"\n",
    "    \n",
    "    print(\"Generating speaker diarization... audio_file=\", audio_file)\n",
    "\n",
    "    pipeline = Pipeline.from_pretrained(\n",
    "      \"pyannote/speaker-diarization-3.0\",\n",
    "      use_auth_token=HUGGINGFACE_AUTH_TOKEN)\n",
    "    \n",
    "    result = pipeline(audio_file)\n",
    "    \n",
    "    print(\"Done generating spearer diarization\")\n",
    "    return result\n",
    "\n",
    "def generate_transcription(diarization):\n",
    "    \"\"\"Generate transcription from given diarization object\"\"\"\n",
    "    \n",
    "    print(\"Generating transcription model: \", WHISPER_MODEL)\n",
    "\n",
    "    pipe = pipeline(\n",
    "        \"automatic-speech-recognition\",\n",
    "        model=f\"openai/whisper-{WHISPER_MODEL}\",\n",
    "        chunk_length_s=30,\n",
    "        device=\"cuda\"\n",
    "    )\n",
    "\n",
    "    # Create directory for tracks\n",
    "    shutil.rmtree(\"output-tracks\", ignore_errors=True)\n",
    "    os.mkdir(\"output-tracks\")\n",
    "\n",
    "    result = []\n",
    "    for turn, _, speaker in diarization.support(COLLAR_IN_SECS).itertracks(yield_label=True):\n",
    "        track_file = f\"output-tracks/{round(turn.start, 2)}-{speaker}.mp3\"\n",
    "        track_path = os.path.join(os.curdir, track_file)\n",
    "        extract_audio_track(TEMP_AUDIO_FILE, track_file, turn.start, turn.end, )\n",
    "        \n",
    "        track_data = None\n",
    "        with open(track_file, \"rb\") as audio_content:\n",
    "            track_data = audio_content.read()\n",
    "\n",
    "        output = pipe(track_data, batch_size=8, return_timestamps=False)\n",
    "        text = output['text']\n",
    "            \n",
    "        result.append({\n",
    "            'start': turn.start,\n",
    "            'end': turn.end,\n",
    "            'speaker': speaker, \n",
    "            'text': text.strip(), \n",
    "            'track_path': track_path\n",
    "        })\n",
    "\n",
    "    print(\"Done generating transcripion. Parts: \", len(result))\n",
    "    return result\n",
    "\n",
    "def format_transcription(transcription):\n",
    "    \"\"\"Format transcription in SubViewer format: https://wiki.videolan.org/SubViewer/\"\"\"\n",
    "    \n",
    "    result = \"\"\n",
    "    for t in transcription:\n",
    "        result += f\"{format_timestamp(t['start'])},{format_timestamp(t['end'])}\\n{t['speaker']}: {t['text']}\\n\\n\"\n",
    "    return result\n",
    "\n",
    "def save_transcription(transcription, output_file):\n",
    "    \"\"\"Save trainscription in SubViewer format to file.\"\"\"\n",
    "    \n",
    "    print(\"Saving transcripion to file...\", output_file)\n",
    "    \n",
    "    f = open(output_file, \"w\")\n",
    "    f.write(format_transcription(transcription))\n",
    "    f.close()\n",
    "\n",
    "    print(\"Done saving transcripion\")"
   ]
  },
  {
   "cell_type": "markdown",
   "id": "fce11041-30f6-4dd1-8fd0-002e88c2469f",
   "metadata": {},
   "source": [
    "## Main program"
   ]
  },
  {
   "cell_type": "markdown",
   "id": "f915f616-d4bb-4767-a221-7c83afe7f72a",
   "metadata": {},
   "source": [
    "### Fetch video / Extract Audio"
   ]
  },
  {
   "cell_type": "code",
   "execution_count": 8,
   "id": "d9f3d389-907e-47c2-b24b-54df69556002",
   "metadata": {},
   "outputs": [
    {
     "name": "stdout",
     "output_type": "stream",
     "text": [
      "Extracting audio from video file record.mp4\n",
      "MoviePy - Writing audio in temp/input.wav\n"
     ]
    },
    {
     "name": "stderr",
     "output_type": "stream",
     "text": [
      "                                                                      "
     ]
    },
    {
     "name": "stdout",
     "output_type": "stream",
     "text": [
      "MoviePy - Done.\n",
      "Done fetching audio form YouTube to file:  temp/input.wav\n",
      "CPU times: total: 93.8 ms\n",
      "Wall time: 765 ms\n"
     ]
    },
    {
     "name": "stderr",
     "output_type": "stream",
     "text": [
      "\r"
     ]
    }
   ],
   "source": [
    "%%time\n",
    "if INPUT_VIDEO_FILE:\n",
    "    audio_file = extract_wav_from_video(INPUT_VIDEO_FILE)\n",
    "elif INPUT_YOUTUBE_URL:\n",
    "    audio_file = fetch_youtube_audio(INPUT_YOUTUBE_URL)\n",
    "else:\n",
    "    print(\"Set INPUT_VIDEO_FILE or INPUT_YOUTUBE_URL\")\n"
   ]
  },
  {
   "cell_type": "markdown",
   "id": "ff1bb2c4-359e-4440-a231-899bf3d0cd71",
   "metadata": {},
   "source": [
    "### Generate diarizations"
   ]
  },
  {
   "cell_type": "code",
   "execution_count": 9,
   "id": "7b4351eb-df31-411d-95b4-cd30cd572802",
   "metadata": {},
   "outputs": [
    {
     "name": "stdout",
     "output_type": "stream",
     "text": [
      "Generating speaker diarization... audio_file= temp/input.wav\n",
      "Done generating spearer diarization\n",
      "CPU times: total: 24.5 s\n",
      "Wall time: 53.7 s\n"
     ]
    }
   ],
   "source": [
    "%%time\n",
    "diarization = generate_speaker_diarization(audio_file)"
   ]
  },
  {
   "cell_type": "code",
   "execution_count": null,
   "id": "4c30a317-4f8f-4dcf-9a0b-9883e4178355",
   "metadata": {},
   "outputs": [],
   "source": []
  },
  {
   "cell_type": "code",
   "execution_count": 11,
   "id": "c2c63855-80dd-4b18-b10b-004173053b46",
   "metadata": {},
   "outputs": [
    {
     "name": "stdout",
     "output_type": "stream",
     "text": [
      "Generating transcription model:  base.en\n"
     ]
    },
    {
     "ename": "FileNotFoundError",
     "evalue": "[WinError 2] The system cannot find the file specified",
     "output_type": "error",
     "traceback": [
      "\u001b[1;31m---------------------------------------------------------------------------\u001b[0m",
      "\u001b[1;31mFileNotFoundError\u001b[0m                         Traceback (most recent call last)",
      "File \u001b[1;32m<timed exec>:1\u001b[0m\n",
      "Cell \u001b[1;32mIn[7], line 105\u001b[0m, in \u001b[0;36mgenerate_transcription\u001b[1;34m(diarization)\u001b[0m\n\u001b[0;32m    103\u001b[0m track_file \u001b[38;5;241m=\u001b[39m \u001b[38;5;124mf\u001b[39m\u001b[38;5;124m\"\u001b[39m\u001b[38;5;124moutput-tracks/\u001b[39m\u001b[38;5;132;01m{\u001b[39;00m\u001b[38;5;28mround\u001b[39m(turn\u001b[38;5;241m.\u001b[39mstart,\u001b[38;5;250m \u001b[39m\u001b[38;5;241m2\u001b[39m)\u001b[38;5;132;01m}\u001b[39;00m\u001b[38;5;124m-\u001b[39m\u001b[38;5;132;01m{\u001b[39;00mspeaker\u001b[38;5;132;01m}\u001b[39;00m\u001b[38;5;124m.mp3\u001b[39m\u001b[38;5;124m\"\u001b[39m\n\u001b[0;32m    104\u001b[0m track_path \u001b[38;5;241m=\u001b[39m os\u001b[38;5;241m.\u001b[39mpath\u001b[38;5;241m.\u001b[39mjoin(os\u001b[38;5;241m.\u001b[39mcurdir, track_file)\n\u001b[1;32m--> 105\u001b[0m \u001b[43mextract_audio_track\u001b[49m\u001b[43m(\u001b[49m\u001b[43mTEMP_AUDIO_FILE\u001b[49m\u001b[43m,\u001b[49m\u001b[43m \u001b[49m\u001b[43mtrack_file\u001b[49m\u001b[43m,\u001b[49m\u001b[43m \u001b[49m\u001b[43mturn\u001b[49m\u001b[38;5;241;43m.\u001b[39;49m\u001b[43mstart\u001b[49m\u001b[43m,\u001b[49m\u001b[43m \u001b[49m\u001b[43mturn\u001b[49m\u001b[38;5;241;43m.\u001b[39;49m\u001b[43mend\u001b[49m\u001b[43m,\u001b[49m\u001b[43m \u001b[49m\u001b[43m)\u001b[49m\n\u001b[0;32m    107\u001b[0m track_data \u001b[38;5;241m=\u001b[39m \u001b[38;5;28;01mNone\u001b[39;00m\n\u001b[0;32m    108\u001b[0m \u001b[38;5;28;01mwith\u001b[39;00m \u001b[38;5;28mopen\u001b[39m(track_file, \u001b[38;5;124m\"\u001b[39m\u001b[38;5;124mrb\u001b[39m\u001b[38;5;124m\"\u001b[39m) \u001b[38;5;28;01mas\u001b[39;00m audio_content:\n",
      "Cell \u001b[1;32mIn[7], line 69\u001b[0m, in \u001b[0;36mextract_audio_track\u001b[1;34m(input_file, output_file, start_time, end_time)\u001b[0m\n\u001b[0;32m     66\u001b[0m \u001b[38;5;66;03m# Extract the desired segment\u001b[39;00m\n\u001b[0;32m     67\u001b[0m track \u001b[38;5;241m=\u001b[39m audio[start_ms:end_ms]\n\u001b[1;32m---> 69\u001b[0m \u001b[43mtrack\u001b[49m\u001b[38;5;241;43m.\u001b[39;49m\u001b[43mexport\u001b[49m\u001b[43m(\u001b[49m\u001b[43moutput_file\u001b[49m\u001b[43m,\u001b[49m\u001b[43m \u001b[49m\u001b[38;5;28;43mformat\u001b[39;49m\u001b[38;5;241;43m=\u001b[39;49m\u001b[38;5;124;43m\"\u001b[39;49m\u001b[38;5;124;43mmp3\u001b[39;49m\u001b[38;5;124;43m\"\u001b[39;49m\u001b[43m)\u001b[49m\n",
      "File \u001b[1;32mc:\\Users\\1\\AppData\\Local\\Programs\\Python\\Python39\\lib\\site-packages\\pydub\\audio_segment.py:963\u001b[0m, in \u001b[0;36mAudioSegment.export\u001b[1;34m(self, out_f, format, codec, bitrate, parameters, tags, id3v2_version, cover)\u001b[0m\n\u001b[0;32m    961\u001b[0m \u001b[38;5;66;03m# read stdin / write stdout\u001b[39;00m\n\u001b[0;32m    962\u001b[0m \u001b[38;5;28;01mwith\u001b[39;00m \u001b[38;5;28mopen\u001b[39m(os\u001b[38;5;241m.\u001b[39mdevnull, \u001b[38;5;124m'\u001b[39m\u001b[38;5;124mrb\u001b[39m\u001b[38;5;124m'\u001b[39m) \u001b[38;5;28;01mas\u001b[39;00m devnull:\n\u001b[1;32m--> 963\u001b[0m     p \u001b[38;5;241m=\u001b[39m \u001b[43msubprocess\u001b[49m\u001b[38;5;241;43m.\u001b[39;49m\u001b[43mPopen\u001b[49m\u001b[43m(\u001b[49m\u001b[43mconversion_command\u001b[49m\u001b[43m,\u001b[49m\u001b[43m \u001b[49m\u001b[43mstdin\u001b[49m\u001b[38;5;241;43m=\u001b[39;49m\u001b[43mdevnull\u001b[49m\u001b[43m,\u001b[49m\u001b[43m \u001b[49m\u001b[43mstdout\u001b[49m\u001b[38;5;241;43m=\u001b[39;49m\u001b[43msubprocess\u001b[49m\u001b[38;5;241;43m.\u001b[39;49m\u001b[43mPIPE\u001b[49m\u001b[43m,\u001b[49m\u001b[43m \u001b[49m\u001b[43mstderr\u001b[49m\u001b[38;5;241;43m=\u001b[39;49m\u001b[43msubprocess\u001b[49m\u001b[38;5;241;43m.\u001b[39;49m\u001b[43mPIPE\u001b[49m\u001b[43m)\u001b[49m\n\u001b[0;32m    964\u001b[0m p_out, p_err \u001b[38;5;241m=\u001b[39m p\u001b[38;5;241m.\u001b[39mcommunicate()\n\u001b[0;32m    966\u001b[0m log_subprocess_output(p_out)\n",
      "File \u001b[1;32mc:\\Users\\1\\AppData\\Local\\Programs\\Python\\Python39\\lib\\subprocess.py:947\u001b[0m, in \u001b[0;36mPopen.__init__\u001b[1;34m(self, args, bufsize, executable, stdin, stdout, stderr, preexec_fn, close_fds, shell, cwd, env, universal_newlines, startupinfo, creationflags, restore_signals, start_new_session, pass_fds, user, group, extra_groups, encoding, errors, text, umask)\u001b[0m\n\u001b[0;32m    943\u001b[0m         \u001b[38;5;28;01mif\u001b[39;00m \u001b[38;5;28mself\u001b[39m\u001b[38;5;241m.\u001b[39mtext_mode:\n\u001b[0;32m    944\u001b[0m             \u001b[38;5;28mself\u001b[39m\u001b[38;5;241m.\u001b[39mstderr \u001b[38;5;241m=\u001b[39m io\u001b[38;5;241m.\u001b[39mTextIOWrapper(\u001b[38;5;28mself\u001b[39m\u001b[38;5;241m.\u001b[39mstderr,\n\u001b[0;32m    945\u001b[0m                     encoding\u001b[38;5;241m=\u001b[39mencoding, errors\u001b[38;5;241m=\u001b[39merrors)\n\u001b[1;32m--> 947\u001b[0m     \u001b[38;5;28;43mself\u001b[39;49m\u001b[38;5;241;43m.\u001b[39;49m\u001b[43m_execute_child\u001b[49m\u001b[43m(\u001b[49m\u001b[43margs\u001b[49m\u001b[43m,\u001b[49m\u001b[43m \u001b[49m\u001b[43mexecutable\u001b[49m\u001b[43m,\u001b[49m\u001b[43m \u001b[49m\u001b[43mpreexec_fn\u001b[49m\u001b[43m,\u001b[49m\u001b[43m \u001b[49m\u001b[43mclose_fds\u001b[49m\u001b[43m,\u001b[49m\n\u001b[0;32m    948\u001b[0m \u001b[43m                        \u001b[49m\u001b[43mpass_fds\u001b[49m\u001b[43m,\u001b[49m\u001b[43m \u001b[49m\u001b[43mcwd\u001b[49m\u001b[43m,\u001b[49m\u001b[43m \u001b[49m\u001b[43menv\u001b[49m\u001b[43m,\u001b[49m\n\u001b[0;32m    949\u001b[0m \u001b[43m                        \u001b[49m\u001b[43mstartupinfo\u001b[49m\u001b[43m,\u001b[49m\u001b[43m \u001b[49m\u001b[43mcreationflags\u001b[49m\u001b[43m,\u001b[49m\u001b[43m \u001b[49m\u001b[43mshell\u001b[49m\u001b[43m,\u001b[49m\n\u001b[0;32m    950\u001b[0m \u001b[43m                        \u001b[49m\u001b[43mp2cread\u001b[49m\u001b[43m,\u001b[49m\u001b[43m \u001b[49m\u001b[43mp2cwrite\u001b[49m\u001b[43m,\u001b[49m\n\u001b[0;32m    951\u001b[0m \u001b[43m                        \u001b[49m\u001b[43mc2pread\u001b[49m\u001b[43m,\u001b[49m\u001b[43m \u001b[49m\u001b[43mc2pwrite\u001b[49m\u001b[43m,\u001b[49m\n\u001b[0;32m    952\u001b[0m \u001b[43m                        \u001b[49m\u001b[43merrread\u001b[49m\u001b[43m,\u001b[49m\u001b[43m \u001b[49m\u001b[43merrwrite\u001b[49m\u001b[43m,\u001b[49m\n\u001b[0;32m    953\u001b[0m \u001b[43m                        \u001b[49m\u001b[43mrestore_signals\u001b[49m\u001b[43m,\u001b[49m\n\u001b[0;32m    954\u001b[0m \u001b[43m                        \u001b[49m\u001b[43mgid\u001b[49m\u001b[43m,\u001b[49m\u001b[43m \u001b[49m\u001b[43mgids\u001b[49m\u001b[43m,\u001b[49m\u001b[43m \u001b[49m\u001b[43muid\u001b[49m\u001b[43m,\u001b[49m\u001b[43m \u001b[49m\u001b[43mumask\u001b[49m\u001b[43m,\u001b[49m\n\u001b[0;32m    955\u001b[0m \u001b[43m                        \u001b[49m\u001b[43mstart_new_session\u001b[49m\u001b[43m)\u001b[49m\n\u001b[0;32m    956\u001b[0m \u001b[38;5;28;01mexcept\u001b[39;00m:\n\u001b[0;32m    957\u001b[0m     \u001b[38;5;66;03m# Cleanup if the child failed starting.\u001b[39;00m\n\u001b[0;32m    958\u001b[0m     \u001b[38;5;28;01mfor\u001b[39;00m f \u001b[38;5;129;01min\u001b[39;00m \u001b[38;5;28mfilter\u001b[39m(\u001b[38;5;28;01mNone\u001b[39;00m, (\u001b[38;5;28mself\u001b[39m\u001b[38;5;241m.\u001b[39mstdin, \u001b[38;5;28mself\u001b[39m\u001b[38;5;241m.\u001b[39mstdout, \u001b[38;5;28mself\u001b[39m\u001b[38;5;241m.\u001b[39mstderr)):\n",
      "File \u001b[1;32mc:\\Users\\1\\AppData\\Local\\Programs\\Python\\Python39\\lib\\subprocess.py:1416\u001b[0m, in \u001b[0;36mPopen._execute_child\u001b[1;34m(self, args, executable, preexec_fn, close_fds, pass_fds, cwd, env, startupinfo, creationflags, shell, p2cread, p2cwrite, c2pread, c2pwrite, errread, errwrite, unused_restore_signals, unused_gid, unused_gids, unused_uid, unused_umask, unused_start_new_session)\u001b[0m\n\u001b[0;32m   1414\u001b[0m \u001b[38;5;66;03m# Start the process\u001b[39;00m\n\u001b[0;32m   1415\u001b[0m \u001b[38;5;28;01mtry\u001b[39;00m:\n\u001b[1;32m-> 1416\u001b[0m     hp, ht, pid, tid \u001b[38;5;241m=\u001b[39m \u001b[43m_winapi\u001b[49m\u001b[38;5;241;43m.\u001b[39;49m\u001b[43mCreateProcess\u001b[49m\u001b[43m(\u001b[49m\u001b[43mexecutable\u001b[49m\u001b[43m,\u001b[49m\u001b[43m \u001b[49m\u001b[43margs\u001b[49m\u001b[43m,\u001b[49m\n\u001b[0;32m   1417\u001b[0m \u001b[43m                             \u001b[49m\u001b[38;5;66;43;03m# no special security\u001b[39;49;00m\n\u001b[0;32m   1418\u001b[0m \u001b[43m                             \u001b[49m\u001b[38;5;28;43;01mNone\u001b[39;49;00m\u001b[43m,\u001b[49m\u001b[43m \u001b[49m\u001b[38;5;28;43;01mNone\u001b[39;49;00m\u001b[43m,\u001b[49m\n\u001b[0;32m   1419\u001b[0m \u001b[43m                             \u001b[49m\u001b[38;5;28;43mint\u001b[39;49m\u001b[43m(\u001b[49m\u001b[38;5;129;43;01mnot\u001b[39;49;00m\u001b[43m \u001b[49m\u001b[43mclose_fds\u001b[49m\u001b[43m)\u001b[49m\u001b[43m,\u001b[49m\n\u001b[0;32m   1420\u001b[0m \u001b[43m                             \u001b[49m\u001b[43mcreationflags\u001b[49m\u001b[43m,\u001b[49m\n\u001b[0;32m   1421\u001b[0m \u001b[43m                             \u001b[49m\u001b[43menv\u001b[49m\u001b[43m,\u001b[49m\n\u001b[0;32m   1422\u001b[0m \u001b[43m                             \u001b[49m\u001b[43mcwd\u001b[49m\u001b[43m,\u001b[49m\n\u001b[0;32m   1423\u001b[0m \u001b[43m                             \u001b[49m\u001b[43mstartupinfo\u001b[49m\u001b[43m)\u001b[49m\n\u001b[0;32m   1424\u001b[0m \u001b[38;5;28;01mfinally\u001b[39;00m:\n\u001b[0;32m   1425\u001b[0m     \u001b[38;5;66;03m# Child is launched. Close the parent's copy of those pipe\u001b[39;00m\n\u001b[0;32m   1426\u001b[0m     \u001b[38;5;66;03m# handles that only the child should have open.  You need\u001b[39;00m\n\u001b[1;32m   (...)\u001b[0m\n\u001b[0;32m   1429\u001b[0m     \u001b[38;5;66;03m# pipe will not close when the child process exits and the\u001b[39;00m\n\u001b[0;32m   1430\u001b[0m     \u001b[38;5;66;03m# ReadFile will hang.\u001b[39;00m\n\u001b[0;32m   1431\u001b[0m     \u001b[38;5;28mself\u001b[39m\u001b[38;5;241m.\u001b[39m_close_pipe_fds(p2cread, p2cwrite,\n\u001b[0;32m   1432\u001b[0m                          c2pread, c2pwrite,\n\u001b[0;32m   1433\u001b[0m                          errread, errwrite)\n",
      "\u001b[1;31mFileNotFoundError\u001b[0m: [WinError 2] The system cannot find the file specified"
     ]
    }
   ],
   "source": [
    "%%time\n",
    "transcription = generate_transcription(diarization)\n",
    "save_transcription(transcription, OUTPUT_TRANSCRIPTION)\n",
    "\n",
    "print(format_transcription(transcription))"
   ]
  },
  {
   "cell_type": "markdown",
   "id": "49882884-3d6e-4a08-bc0c-083e75d546b7",
   "metadata": {},
   "source": [
    "# "
   ]
  }
 ],
 "metadata": {
  "kernelspec": {
   "display_name": "Python 3 (ipykernel)",
   "language": "python",
   "name": "python3"
  },
  "language_info": {
   "codemirror_mode": {
    "name": "ipython",
    "version": 3
   },
   "file_extension": ".py",
   "mimetype": "text/x-python",
   "name": "python",
   "nbconvert_exporter": "python",
   "pygments_lexer": "ipython3",
   "version": "3.9.0"
  }
 },
 "nbformat": 4,
 "nbformat_minor": 5
}
